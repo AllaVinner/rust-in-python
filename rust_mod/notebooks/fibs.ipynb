{
 "cells": [
  {
   "cell_type": "code",
   "execution_count": 5,
   "metadata": {},
   "outputs": [
    {
     "name": "stdout",
     "output_type": "stream",
     "text": [
      "c:\\Users\\joelw\\OneDrive\\Documents\\Projects\\Programming\\rust-in-python\\rust_mod\n"
     ]
    }
   ],
   "source": [
    "%cd .."
   ]
  },
  {
   "cell_type": "code",
   "execution_count": 2,
   "metadata": {},
   "outputs": [
    {
     "data": {
      "text/plain": [
       "'c:\\\\Users\\\\joelw\\\\OneDrive\\\\Documents\\\\Projects\\\\Programming\\\\rust-in-python\\\\rust_mod'"
      ]
     },
     "execution_count": 2,
     "metadata": {},
     "output_type": "execute_result"
    }
   ],
   "source": [
    "%pwd"
   ]
  },
  {
   "cell_type": "code",
   "execution_count": 12,
   "metadata": {},
   "outputs": [
    {
     "data": {
      "text/plain": [
       "<module 'rust_mod' from 'c:\\\\Users\\\\joelw\\\\OneDrive\\\\Documents\\\\Projects\\\\Programming\\\\rust-in-python\\\\rust_mod\\\\.env\\\\lib\\\\site-packages\\\\rust_mod\\\\__init__.py'>"
      ]
     },
     "execution_count": 12,
     "metadata": {},
     "output_type": "execute_result"
    }
   ],
   "source": [
    "import rust_mod\n",
    "import timeit\n",
    "import pandas as pd\n",
    "import plotly.express as px\n",
    "import plotly.graph_objects as go\n",
    "from pysrc import funs as pyfun\n",
    "import importlib\n",
    "importlib.reload(pyfun)\n",
    "importlib.reload(rust_mod)\n"
   ]
  },
  {
   "cell_type": "code",
   "execution_count": 15,
   "metadata": {},
   "outputs": [
    {
     "data": {
      "text/plain": [
       "'5'"
      ]
     },
     "execution_count": 15,
     "metadata": {},
     "output_type": "execute_result"
    }
   ],
   "source": [
    "rust_mod.sum_as_string(2,3)"
   ]
  },
  {
   "cell_type": "code",
   "execution_count": 16,
   "metadata": {},
   "outputs": [
    {
     "data": {
      "text/plain": [
       "3878968454388325633701916308325905312082127714646245106160597214895550139044037097010822916462210669479293452858882973813483102008954982940361430156911478938364216563944106910214505634133706558656238254656700712525929903854933813928836378347518908762970712033337052923107693008518093849801803847813996748881765554653788291644268912980384613778969021502293082475666346224923071883324803280375039130352903304505842701147635242270210934637699104006714174883298422891491273104054328753298044273676822977244987749874555691907703880637046832794811358973739993110106219308149018570815397854379195305617510761053075688783766033667355445258844886241619210553457493675897849027988234351023599844663934853256411952221859563060475364645470760330902420806382584929156452876291575759142343809142302917491088984155209854432486594079793571316841692868039545309545388698114665082066862897420639323438488465240988742395873801976993820317174208932265468879364002630797780058759129671389634214252579116872755600360311370547754724604639987588046985178408674382863125"
      ]
     },
     "execution_count": 16,
     "metadata": {},
     "output_type": "execute_result"
    }
   ],
   "source": [
    "pyfun.get_fibonacci(5000)"
   ]
  },
  {
   "cell_type": "code",
   "execution_count": 9,
   "metadata": {},
   "outputs": [
    {
     "data": {
      "text/plain": [
       "4.544503300014185"
      ]
     },
     "execution_count": 9,
     "metadata": {},
     "output_type": "execute_result"
    }
   ],
   "source": []
  },
  {
   "cell_type": "code",
   "execution_count": 7,
   "metadata": {},
   "outputs": [],
   "source": [
    "a = timeit.timeit(f\"pyfun.get_fibonacci(150)\", setup=\"from pysrc import funs as pyfun\")\n",
    "b = timeit.timeit(f\"rust_mod.get_fibonacci(150)\", setup=\"import rust_mod\")"
   ]
  },
  {
   "cell_type": "code",
   "execution_count": 11,
   "metadata": {},
   "outputs": [
    {
     "name": "stdout",
     "output_type": "stream",
     "text": [
      "0\n",
      "20\n",
      "40\n",
      "60\n",
      "80\n",
      "100\n",
      "120\n",
      "140\n"
     ]
    }
   ],
   "source": [
    "pys = []\n",
    "rus = []\n",
    "for i in range(150):\n",
    "    pys.append(timeit.timeit(f\"pyfun.get_fibonacci({i})\", setup=\"from pysrc import funs as pyfun\"))\n",
    "    rus.append(timeit.timeit(f\"rust_mod.get_fibonacci({i})\", setup=\"import rust_mod\"))\n",
    "    if i % 20 == 0:\n",
    "        print(i)\n"
   ]
  },
  {
   "cell_type": "code",
   "execution_count": 15,
   "metadata": {},
   "outputs": [],
   "source": [
    "pdf = pd.DataFrame({'value': pys, 'type': 'python','index': range(150)})\n",
    "rdf = pd.DataFrame({'value': rus, 'type': 'rust', 'index': range(150)})\n",
    "df = pd.concat([pdf, rdf])"
   ]
  },
  {
   "cell_type": "code",
   "execution_count": 24,
   "metadata": {},
   "outputs": [
    {
     "data": {
      "text/plain": [
       "CompletedProcess(args='pip install -U scikit-learn', returncode=0)"
      ]
     },
     "execution_count": 24,
     "metadata": {},
     "output_type": "execute_result"
    }
   ],
   "source": [
    "import subprocess\n",
    "subprocess.run(\"pip install -U scikit-learn\")"
   ]
  },
  {
   "cell_type": "code",
   "execution_count": 100,
   "metadata": {},
   "outputs": [
    {
     "ename": "ValueError",
     "evalue": "Mime type rendering requires nbformat>=4.2.0 but it is not installed",
     "output_type": "error",
     "traceback": [
      "\u001b[1;31m---------------------------------------------------------------------------\u001b[0m",
      "\u001b[1;31mValueError\u001b[0m                                Traceback (most recent call last)",
      "File \u001b[1;32mc:\\Users\\joelw\\OneDrive\\Documents\\Projects\\Programming\\rust-in-python\\rust_mod\\.env\\lib\\site-packages\\IPython\\core\\formatters.py:920\u001b[0m, in \u001b[0;36mIPythonDisplayFormatter.__call__\u001b[1;34m(self, obj)\u001b[0m\n\u001b[0;32m    918\u001b[0m method \u001b[39m=\u001b[39m get_real_method(obj, \u001b[39mself\u001b[39m\u001b[39m.\u001b[39mprint_method)\n\u001b[0;32m    919\u001b[0m \u001b[39mif\u001b[39;00m method \u001b[39mis\u001b[39;00m \u001b[39mnot\u001b[39;00m \u001b[39mNone\u001b[39;00m:\n\u001b[1;32m--> 920\u001b[0m     method()\n\u001b[0;32m    921\u001b[0m     \u001b[39mreturn\u001b[39;00m \u001b[39mTrue\u001b[39;00m\n",
      "File \u001b[1;32mc:\\Users\\joelw\\OneDrive\\Documents\\Projects\\Programming\\rust-in-python\\rust_mod\\.env\\lib\\site-packages\\plotly\\basedatatypes.py:842\u001b[0m, in \u001b[0;36mBaseFigure._ipython_display_\u001b[1;34m(self)\u001b[0m\n\u001b[0;32m    839\u001b[0m \u001b[39mimport\u001b[39;00m \u001b[39mplotly\u001b[39;00m\u001b[39m.\u001b[39;00m\u001b[39mio\u001b[39;00m \u001b[39mas\u001b[39;00m \u001b[39mpio\u001b[39;00m\n\u001b[0;32m    841\u001b[0m \u001b[39mif\u001b[39;00m pio\u001b[39m.\u001b[39mrenderers\u001b[39m.\u001b[39mrender_on_display \u001b[39mand\u001b[39;00m pio\u001b[39m.\u001b[39mrenderers\u001b[39m.\u001b[39mdefault:\n\u001b[1;32m--> 842\u001b[0m     pio\u001b[39m.\u001b[39;49mshow(\u001b[39mself\u001b[39;49m)\n\u001b[0;32m    843\u001b[0m \u001b[39melse\u001b[39;00m:\n\u001b[0;32m    844\u001b[0m     \u001b[39mprint\u001b[39m(\u001b[39mrepr\u001b[39m(\u001b[39mself\u001b[39m))\n",
      "File \u001b[1;32mc:\\Users\\joelw\\OneDrive\\Documents\\Projects\\Programming\\rust-in-python\\rust_mod\\.env\\lib\\site-packages\\plotly\\io\\_renderers.py:396\u001b[0m, in \u001b[0;36mshow\u001b[1;34m(fig, renderer, validate, **kwargs)\u001b[0m\n\u001b[0;32m    391\u001b[0m         \u001b[39mraise\u001b[39;00m \u001b[39mValueError\u001b[39;00m(\n\u001b[0;32m    392\u001b[0m             \u001b[39m\"\u001b[39m\u001b[39mMime type rendering requires ipython but it is not installed\u001b[39m\u001b[39m\"\u001b[39m\n\u001b[0;32m    393\u001b[0m         )\n\u001b[0;32m    395\u001b[0m     \u001b[39mif\u001b[39;00m \u001b[39mnot\u001b[39;00m nbformat \u001b[39mor\u001b[39;00m LooseVersion(nbformat\u001b[39m.\u001b[39m__version__) \u001b[39m<\u001b[39m LooseVersion(\u001b[39m\"\u001b[39m\u001b[39m4.2.0\u001b[39m\u001b[39m\"\u001b[39m):\n\u001b[1;32m--> 396\u001b[0m         \u001b[39mraise\u001b[39;00m \u001b[39mValueError\u001b[39;00m(\n\u001b[0;32m    397\u001b[0m             \u001b[39m\"\u001b[39m\u001b[39mMime type rendering requires nbformat>=4.2.0 but it is not installed\u001b[39m\u001b[39m\"\u001b[39m\n\u001b[0;32m    398\u001b[0m         )\n\u001b[0;32m    400\u001b[0m     ipython_display\u001b[39m.\u001b[39mdisplay(bundle, raw\u001b[39m=\u001b[39m\u001b[39mTrue\u001b[39;00m)\n\u001b[0;32m    402\u001b[0m \u001b[39m# external renderers\u001b[39;00m\n",
      "\u001b[1;31mValueError\u001b[0m: Mime type rendering requires nbformat>=4.2.0 but it is not installed"
     ]
    },
    {
     "data": {
      "application/vnd.plotly.v1+json": {
       "config": {
        "plotlyServerURL": "https://plot.ly"
       },
       "data": [
        {
         "marker": {
          "color": "#55AA55"
         },
         "mode": "markers",
         "name": "python",
         "type": "scatter",
         "x": [
          0,
          1,
          2,
          3,
          4,
          5,
          6,
          7,
          8,
          9,
          10,
          11,
          12,
          13,
          14,
          15,
          16,
          17,
          18,
          19,
          20,
          21,
          22,
          23,
          24,
          25,
          26,
          27,
          28,
          29,
          30,
          31,
          32,
          33,
          34,
          35,
          36,
          37,
          38,
          39,
          40,
          41,
          42,
          43,
          44,
          45,
          46,
          47,
          48,
          49,
          50,
          51,
          52,
          53,
          54,
          55,
          56,
          57,
          58,
          59,
          60,
          61,
          62,
          63,
          64,
          65,
          66,
          67,
          68,
          69,
          70,
          71,
          72,
          73,
          74,
          75,
          76,
          77,
          78,
          79,
          80,
          81,
          82,
          83,
          84,
          85,
          86,
          87,
          88,
          89,
          90,
          91,
          92,
          93,
          94,
          95,
          96,
          97,
          98,
          99,
          100,
          101,
          102,
          103,
          104,
          105,
          106,
          107,
          108,
          109,
          110,
          111,
          112,
          113,
          114,
          115,
          116,
          117,
          118,
          119,
          120,
          121,
          122,
          123,
          124,
          125,
          126,
          127,
          128,
          129,
          130,
          131,
          132,
          133,
          134,
          135,
          136,
          137,
          138,
          139,
          140,
          141,
          142,
          143,
          144,
          145,
          146,
          147,
          148,
          149
         ],
         "y": [
          0.5152764999947976,
          0.1332676000020001,
          0.1554463000211399,
          0.46941419999348,
          0.5243278999987524,
          0.6014150999835692,
          0.5902772000117693,
          0.7043325999984518,
          0.6830102999811061,
          0.7590822000056505,
          0.7909023999818601,
          0.8646071999974083,
          0.8962305000168271,
          0.9530727999808732,
          1.0197521999944001,
          1.106726099998923,
          1.0957517999922857,
          1.1951927999907639,
          1.2390132999862544,
          1.2872649999917485,
          1.3250924999883864,
          1.450323600001866,
          1.4718135000148322,
          1.565116100013256,
          1.5974818999820855,
          1.6214011999836657,
          1.6914518999983557,
          1.7538296999991871,
          1.8136759000190068,
          1.8514609999838285,
          1.8790213000029325,
          1.8686490000109188,
          2.0003648000129033,
          2.01141030000872,
          2.0348372999869753,
          2.163854000013089,
          2.191027799999574,
          2.206862499995623,
          2.2585388000006787,
          2.3565692999982275,
          2.3815796000126284,
          2.4701153000060003,
          2.519466800004011,
          2.664324499986833,
          2.617401499999687,
          2.605026800010819,
          2.718124600010924,
          2.726397699996596,
          2.8071513999893796,
          2.8051854000077583,
          2.9643579999974463,
          3.0163978000055067,
          3.0602843999804463,
          3.1090063999872655,
          3.229007799993269,
          3.2489481999946292,
          3.3144488999969326,
          3.3333119000017177,
          3.464664700004505,
          3.520523700019112,
          3.6016515999799594,
          3.7050448000081815,
          3.6175351999991108,
          3.719909000006737,
          4.134158400003798,
          3.776276599994162,
          3.8392869999806862,
          3.8487546000105795,
          3.9611041999887675,
          3.9945509000099264,
          4.106301399995573,
          4.164788699999917,
          4.0348744000075385,
          4.340474700002233,
          5.227057499985676,
          4.393210799986264,
          4.538557099993341,
          4.598944299999857,
          4.614362299995264,
          4.730586899997434,
          5.003429599979427,
          4.899873699992895,
          4.7882621999888215,
          4.965903900010744,
          5.181413100013742,
          5.129940199985867,
          5.292101799976081,
          5.267333899973892,
          5.288742600008845,
          5.217698299995391,
          5.372648599994136,
          5.629915700003039,
          5.828216200025054,
          5.894349499983946,
          5.853110399999423,
          5.760756000003312,
          5.744247599999653,
          5.857805599982385,
          5.845157800009474,
          5.823236299998825,
          5.865502699976787,
          6.2199096999829635,
          6.02054309999221,
          6.030377499992028,
          6.084610699996119,
          6.167653099982999,
          6.128072999999858,
          6.096925999998348,
          6.361158699990483,
          10.271441700024297,
          12.919832599989604,
          11.675057299988111,
          11.924066300009144,
          12.126196900004288,
          10.082685300003504,
          6.569622499984689,
          6.671269099984784,
          6.69207649998134,
          6.673134500015294,
          7.480763600004138,
          8.450833200011402,
          10.690266399993561,
          12.80031799999415,
          10.31299529998796,
          7.22555969998939,
          7.289177300001029,
          7.566742599999998,
          14.503521100006765,
          14.344830999994883,
          14.851570099999662,
          8.842272799985949,
          7.762953099998413,
          7.906297399982577,
          7.691092599998228,
          7.798459499987075,
          7.975024099985603,
          7.940733700001147,
          8.004695300012827,
          7.990696599998046,
          8.04042639999534,
          8.228927600022871,
          8.476456599979429,
          8.356700300006196,
          8.311262200004421,
          8.461707800015574,
          8.437294700008351,
          8.595292800018797,
          8.526313500013202,
          8.779628499993123,
          8.822037800011458
         ]
        },
        {
         "marker": {
          "color": "#AA5555"
         },
         "mode": "markers",
         "name": "rust",
         "type": "scatter",
         "x": [
          0,
          1,
          2,
          3,
          4,
          5,
          6,
          7,
          8,
          9,
          10,
          11,
          12,
          13,
          14,
          15,
          16,
          17,
          18,
          19,
          20,
          21,
          22,
          23,
          24,
          25,
          26,
          27,
          28,
          29,
          30,
          31,
          32,
          33,
          34,
          35,
          36,
          37,
          38,
          39,
          40,
          41,
          42,
          43,
          44,
          45,
          46,
          47,
          48,
          49,
          50,
          51,
          52,
          53,
          54,
          55,
          56,
          57,
          58,
          59,
          60,
          61,
          62,
          63,
          64,
          65,
          66,
          67,
          68,
          69,
          70,
          71,
          72,
          73,
          74,
          75,
          76,
          77,
          78,
          79,
          80,
          81,
          82,
          83,
          84,
          85,
          86,
          87,
          88,
          89,
          90,
          91,
          92,
          93,
          94,
          95,
          96,
          97,
          98,
          99,
          100,
          101,
          102,
          103,
          104,
          105,
          106,
          107,
          108,
          109,
          110,
          111,
          112,
          113,
          114,
          115,
          116,
          117,
          118,
          119,
          120,
          121,
          122,
          123,
          124,
          125,
          126,
          127,
          128,
          129,
          130,
          131,
          132,
          133,
          134,
          135,
          136,
          137,
          138,
          139,
          140,
          141,
          142,
          143,
          144,
          145,
          146,
          147,
          148,
          149
         ],
         "y": [
          1.359591900021769,
          1.2919116000120994,
          1.4209354000049643,
          1.293570899986662,
          1.3014584000047762,
          1.388853200012818,
          1.322491099999752,
          1.3866751000168733,
          1.4026465000060853,
          1.4185088999802247,
          1.4436879999993835,
          1.5169849999947473,
          1.516949199984083,
          1.5465444999863394,
          1.551402599987341,
          1.5739662000269163,
          1.6050428999878932,
          1.6547740999958478,
          1.774337699986063,
          1.6785063999996055,
          1.6891836999857333,
          1.8131302999972831,
          1.7136504999944009,
          1.7575791999988724,
          1.8853803999954835,
          1.7826809999824036,
          1.7585095000104047,
          1.8033223999955226,
          1.7873369000153616,
          1.881059000006644,
          1.782455700013088,
          1.7950681000074837,
          1.825692499987781,
          1.8436997999961022,
          1.8886153999774251,
          1.8952424000017345,
          1.8975249000068288,
          1.97006700001657,
          1.9687961000017822,
          1.9751600000017788,
          2.044891999976244,
          2.15949299998465,
          2.2789821999904234,
          2.058258200006094,
          2.142497699998785,
          2.063197500014212,
          2.0885980000020936,
          2.1418011999921873,
          2.132217500009574,
          2.166472899989458,
          2.2001712000055704,
          2.2434600999986287,
          2.2444532999943476,
          2.3331421999901067,
          2.331867600005353,
          2.3173814000037964,
          2.31877940002596,
          2.3822430000000168,
          2.3613746000046376,
          2.3723813999968115,
          2.3851547999947798,
          2.4307968000066467,
          2.4476472999958787,
          2.7937758000043686,
          2.4874711000011303,
          2.550718999991659,
          2.5252616000070702,
          2.521598899998935,
          2.5909100999997463,
          2.609422400011681,
          2.571303500008071,
          2.4561830000020564,
          2.987235000007786,
          2.7491329000040423,
          3.401552900002571,
          2.962506600015331,
          2.7744126000034157,
          2.8832851000188384,
          2.78737489998457,
          2.8117983999836724,
          2.8233307999907993,
          2.816964099998586,
          2.955602000001818,
          3.05375640001148,
          3.0478128000104334,
          3.0962867000198457,
          3.110848200012697,
          3.106987000006484,
          3.0340276999922935,
          2.9650806999998167,
          3.1635777999763377,
          3.2941279000078794,
          3.248392400011653,
          3.3031538000213914,
          3.32198320000316,
          3.18472719998681,
          3.1828504000150133,
          3.2046040999994148,
          3.2021590000076685,
          3.2352432000043336,
          3.2159632999973837,
          3.2591228999954183,
          3.2875592000200413,
          3.2811316000006627,
          3.315779000025941,
          3.3850936999951955,
          3.288543500006199,
          3.113731399993412,
          4.462278199993307,
          7.10476259997813,
          6.115323399979388,
          6.339309599978151,
          6.670469200005755,
          7.147212000010768,
          3.4824439999938477,
          3.552226400002837,
          3.4467017999850214,
          3.461176200013142,
          3.7232182000007015,
          4.126539699995192,
          5.147271099995123,
          6.484302999975625,
          6.5666653999942355,
          3.627114100003382,
          3.691985500016017,
          3.658831900014775,
          4.174921899975743,
          9.259717399982037,
          7.405511899996782,
          6.660824099992169,
          3.8172982999822125,
          3.8643693000194617,
          3.768399499997031,
          3.8222641000174917,
          3.8349502999917604,
          3.930284500005655,
          3.849627599993255,
          3.856268599978648,
          3.9033486999978777,
          3.8783671999990474,
          4.026878400007263,
          4.001716700004181,
          4.094117300002836,
          3.9819605000084266,
          4.072315400000662,
          4.051056299998891,
          4.066826900001615,
          4.077218000020366,
          4.122633099992527,
          4.165524500014726
         ]
        },
        {
         "line": {
          "color": "#99AA99"
         },
         "mode": "lines",
         "showlegend": false,
         "type": "scatter",
         "x": [
          0,
          150
         ],
         "y": [
          0.1599773742988182,
          8.852009575197911
         ]
        },
        {
         "line": {
          "color": "#AA9999"
         },
         "mode": "lines",
         "showlegend": false,
         "type": "scatter",
         "x": [
          0,
          150
         ],
         "y": [
          1.285793263571968,
          4.2268340627614105
         ]
        },
        {
         "mode": "text",
         "showlegend": false,
         "text": "python: 0.057x+0.16",
         "type": "scatter",
         "x": [
          20
         ],
         "y": [
          14
         ]
        },
        {
         "mode": "text",
         "showlegend": false,
         "text": "rust:     0.020x+1.29",
         "type": "scatter",
         "x": [
          20
         ],
         "y": [
          13
         ]
        }
       ],
       "layout": {
        "template": {
         "data": {
          "bar": [
           {
            "error_x": {
             "color": "#2a3f5f"
            },
            "error_y": {
             "color": "#2a3f5f"
            },
            "marker": {
             "line": {
              "color": "#E5ECF6",
              "width": 0.5
             },
             "pattern": {
              "fillmode": "overlay",
              "size": 10,
              "solidity": 0.2
             }
            },
            "type": "bar"
           }
          ],
          "barpolar": [
           {
            "marker": {
             "line": {
              "color": "#E5ECF6",
              "width": 0.5
             },
             "pattern": {
              "fillmode": "overlay",
              "size": 10,
              "solidity": 0.2
             }
            },
            "type": "barpolar"
           }
          ],
          "carpet": [
           {
            "aaxis": {
             "endlinecolor": "#2a3f5f",
             "gridcolor": "white",
             "linecolor": "white",
             "minorgridcolor": "white",
             "startlinecolor": "#2a3f5f"
            },
            "baxis": {
             "endlinecolor": "#2a3f5f",
             "gridcolor": "white",
             "linecolor": "white",
             "minorgridcolor": "white",
             "startlinecolor": "#2a3f5f"
            },
            "type": "carpet"
           }
          ],
          "choropleth": [
           {
            "colorbar": {
             "outlinewidth": 0,
             "ticks": ""
            },
            "type": "choropleth"
           }
          ],
          "contour": [
           {
            "colorbar": {
             "outlinewidth": 0,
             "ticks": ""
            },
            "colorscale": [
             [
              0,
              "#0d0887"
             ],
             [
              0.1111111111111111,
              "#46039f"
             ],
             [
              0.2222222222222222,
              "#7201a8"
             ],
             [
              0.3333333333333333,
              "#9c179e"
             ],
             [
              0.4444444444444444,
              "#bd3786"
             ],
             [
              0.5555555555555556,
              "#d8576b"
             ],
             [
              0.6666666666666666,
              "#ed7953"
             ],
             [
              0.7777777777777778,
              "#fb9f3a"
             ],
             [
              0.8888888888888888,
              "#fdca26"
             ],
             [
              1,
              "#f0f921"
             ]
            ],
            "type": "contour"
           }
          ],
          "contourcarpet": [
           {
            "colorbar": {
             "outlinewidth": 0,
             "ticks": ""
            },
            "type": "contourcarpet"
           }
          ],
          "heatmap": [
           {
            "colorbar": {
             "outlinewidth": 0,
             "ticks": ""
            },
            "colorscale": [
             [
              0,
              "#0d0887"
             ],
             [
              0.1111111111111111,
              "#46039f"
             ],
             [
              0.2222222222222222,
              "#7201a8"
             ],
             [
              0.3333333333333333,
              "#9c179e"
             ],
             [
              0.4444444444444444,
              "#bd3786"
             ],
             [
              0.5555555555555556,
              "#d8576b"
             ],
             [
              0.6666666666666666,
              "#ed7953"
             ],
             [
              0.7777777777777778,
              "#fb9f3a"
             ],
             [
              0.8888888888888888,
              "#fdca26"
             ],
             [
              1,
              "#f0f921"
             ]
            ],
            "type": "heatmap"
           }
          ],
          "heatmapgl": [
           {
            "colorbar": {
             "outlinewidth": 0,
             "ticks": ""
            },
            "colorscale": [
             [
              0,
              "#0d0887"
             ],
             [
              0.1111111111111111,
              "#46039f"
             ],
             [
              0.2222222222222222,
              "#7201a8"
             ],
             [
              0.3333333333333333,
              "#9c179e"
             ],
             [
              0.4444444444444444,
              "#bd3786"
             ],
             [
              0.5555555555555556,
              "#d8576b"
             ],
             [
              0.6666666666666666,
              "#ed7953"
             ],
             [
              0.7777777777777778,
              "#fb9f3a"
             ],
             [
              0.8888888888888888,
              "#fdca26"
             ],
             [
              1,
              "#f0f921"
             ]
            ],
            "type": "heatmapgl"
           }
          ],
          "histogram": [
           {
            "marker": {
             "pattern": {
              "fillmode": "overlay",
              "size": 10,
              "solidity": 0.2
             }
            },
            "type": "histogram"
           }
          ],
          "histogram2d": [
           {
            "colorbar": {
             "outlinewidth": 0,
             "ticks": ""
            },
            "colorscale": [
             [
              0,
              "#0d0887"
             ],
             [
              0.1111111111111111,
              "#46039f"
             ],
             [
              0.2222222222222222,
              "#7201a8"
             ],
             [
              0.3333333333333333,
              "#9c179e"
             ],
             [
              0.4444444444444444,
              "#bd3786"
             ],
             [
              0.5555555555555556,
              "#d8576b"
             ],
             [
              0.6666666666666666,
              "#ed7953"
             ],
             [
              0.7777777777777778,
              "#fb9f3a"
             ],
             [
              0.8888888888888888,
              "#fdca26"
             ],
             [
              1,
              "#f0f921"
             ]
            ],
            "type": "histogram2d"
           }
          ],
          "histogram2dcontour": [
           {
            "colorbar": {
             "outlinewidth": 0,
             "ticks": ""
            },
            "colorscale": [
             [
              0,
              "#0d0887"
             ],
             [
              0.1111111111111111,
              "#46039f"
             ],
             [
              0.2222222222222222,
              "#7201a8"
             ],
             [
              0.3333333333333333,
              "#9c179e"
             ],
             [
              0.4444444444444444,
              "#bd3786"
             ],
             [
              0.5555555555555556,
              "#d8576b"
             ],
             [
              0.6666666666666666,
              "#ed7953"
             ],
             [
              0.7777777777777778,
              "#fb9f3a"
             ],
             [
              0.8888888888888888,
              "#fdca26"
             ],
             [
              1,
              "#f0f921"
             ]
            ],
            "type": "histogram2dcontour"
           }
          ],
          "mesh3d": [
           {
            "colorbar": {
             "outlinewidth": 0,
             "ticks": ""
            },
            "type": "mesh3d"
           }
          ],
          "parcoords": [
           {
            "line": {
             "colorbar": {
              "outlinewidth": 0,
              "ticks": ""
             }
            },
            "type": "parcoords"
           }
          ],
          "pie": [
           {
            "automargin": true,
            "type": "pie"
           }
          ],
          "scatter": [
           {
            "fillpattern": {
             "fillmode": "overlay",
             "size": 10,
             "solidity": 0.2
            },
            "type": "scatter"
           }
          ],
          "scatter3d": [
           {
            "line": {
             "colorbar": {
              "outlinewidth": 0,
              "ticks": ""
             }
            },
            "marker": {
             "colorbar": {
              "outlinewidth": 0,
              "ticks": ""
             }
            },
            "type": "scatter3d"
           }
          ],
          "scattercarpet": [
           {
            "marker": {
             "colorbar": {
              "outlinewidth": 0,
              "ticks": ""
             }
            },
            "type": "scattercarpet"
           }
          ],
          "scattergeo": [
           {
            "marker": {
             "colorbar": {
              "outlinewidth": 0,
              "ticks": ""
             }
            },
            "type": "scattergeo"
           }
          ],
          "scattergl": [
           {
            "marker": {
             "colorbar": {
              "outlinewidth": 0,
              "ticks": ""
             }
            },
            "type": "scattergl"
           }
          ],
          "scattermapbox": [
           {
            "marker": {
             "colorbar": {
              "outlinewidth": 0,
              "ticks": ""
             }
            },
            "type": "scattermapbox"
           }
          ],
          "scatterpolar": [
           {
            "marker": {
             "colorbar": {
              "outlinewidth": 0,
              "ticks": ""
             }
            },
            "type": "scatterpolar"
           }
          ],
          "scatterpolargl": [
           {
            "marker": {
             "colorbar": {
              "outlinewidth": 0,
              "ticks": ""
             }
            },
            "type": "scatterpolargl"
           }
          ],
          "scatterternary": [
           {
            "marker": {
             "colorbar": {
              "outlinewidth": 0,
              "ticks": ""
             }
            },
            "type": "scatterternary"
           }
          ],
          "surface": [
           {
            "colorbar": {
             "outlinewidth": 0,
             "ticks": ""
            },
            "colorscale": [
             [
              0,
              "#0d0887"
             ],
             [
              0.1111111111111111,
              "#46039f"
             ],
             [
              0.2222222222222222,
              "#7201a8"
             ],
             [
              0.3333333333333333,
              "#9c179e"
             ],
             [
              0.4444444444444444,
              "#bd3786"
             ],
             [
              0.5555555555555556,
              "#d8576b"
             ],
             [
              0.6666666666666666,
              "#ed7953"
             ],
             [
              0.7777777777777778,
              "#fb9f3a"
             ],
             [
              0.8888888888888888,
              "#fdca26"
             ],
             [
              1,
              "#f0f921"
             ]
            ],
            "type": "surface"
           }
          ],
          "table": [
           {
            "cells": {
             "fill": {
              "color": "#EBF0F8"
             },
             "line": {
              "color": "white"
             }
            },
            "header": {
             "fill": {
              "color": "#C8D4E3"
             },
             "line": {
              "color": "white"
             }
            },
            "type": "table"
           }
          ]
         },
         "layout": {
          "annotationdefaults": {
           "arrowcolor": "#2a3f5f",
           "arrowhead": 0,
           "arrowwidth": 1
          },
          "autotypenumbers": "strict",
          "coloraxis": {
           "colorbar": {
            "outlinewidth": 0,
            "ticks": ""
           }
          },
          "colorscale": {
           "diverging": [
            [
             0,
             "#8e0152"
            ],
            [
             0.1,
             "#c51b7d"
            ],
            [
             0.2,
             "#de77ae"
            ],
            [
             0.3,
             "#f1b6da"
            ],
            [
             0.4,
             "#fde0ef"
            ],
            [
             0.5,
             "#f7f7f7"
            ],
            [
             0.6,
             "#e6f5d0"
            ],
            [
             0.7,
             "#b8e186"
            ],
            [
             0.8,
             "#7fbc41"
            ],
            [
             0.9,
             "#4d9221"
            ],
            [
             1,
             "#276419"
            ]
           ],
           "sequential": [
            [
             0,
             "#0d0887"
            ],
            [
             0.1111111111111111,
             "#46039f"
            ],
            [
             0.2222222222222222,
             "#7201a8"
            ],
            [
             0.3333333333333333,
             "#9c179e"
            ],
            [
             0.4444444444444444,
             "#bd3786"
            ],
            [
             0.5555555555555556,
             "#d8576b"
            ],
            [
             0.6666666666666666,
             "#ed7953"
            ],
            [
             0.7777777777777778,
             "#fb9f3a"
            ],
            [
             0.8888888888888888,
             "#fdca26"
            ],
            [
             1,
             "#f0f921"
            ]
           ],
           "sequentialminus": [
            [
             0,
             "#0d0887"
            ],
            [
             0.1111111111111111,
             "#46039f"
            ],
            [
             0.2222222222222222,
             "#7201a8"
            ],
            [
             0.3333333333333333,
             "#9c179e"
            ],
            [
             0.4444444444444444,
             "#bd3786"
            ],
            [
             0.5555555555555556,
             "#d8576b"
            ],
            [
             0.6666666666666666,
             "#ed7953"
            ],
            [
             0.7777777777777778,
             "#fb9f3a"
            ],
            [
             0.8888888888888888,
             "#fdca26"
            ],
            [
             1,
             "#f0f921"
            ]
           ]
          },
          "colorway": [
           "#636efa",
           "#EF553B",
           "#00cc96",
           "#ab63fa",
           "#FFA15A",
           "#19d3f3",
           "#FF6692",
           "#B6E880",
           "#FF97FF",
           "#FECB52"
          ],
          "font": {
           "color": "#2a3f5f"
          },
          "geo": {
           "bgcolor": "white",
           "lakecolor": "white",
           "landcolor": "#E5ECF6",
           "showlakes": true,
           "showland": true,
           "subunitcolor": "white"
          },
          "hoverlabel": {
           "align": "left"
          },
          "hovermode": "closest",
          "mapbox": {
           "style": "light"
          },
          "paper_bgcolor": "white",
          "plot_bgcolor": "#E5ECF6",
          "polar": {
           "angularaxis": {
            "gridcolor": "white",
            "linecolor": "white",
            "ticks": ""
           },
           "bgcolor": "#E5ECF6",
           "radialaxis": {
            "gridcolor": "white",
            "linecolor": "white",
            "ticks": ""
           }
          },
          "scene": {
           "xaxis": {
            "backgroundcolor": "#E5ECF6",
            "gridcolor": "white",
            "gridwidth": 2,
            "linecolor": "white",
            "showbackground": true,
            "ticks": "",
            "zerolinecolor": "white"
           },
           "yaxis": {
            "backgroundcolor": "#E5ECF6",
            "gridcolor": "white",
            "gridwidth": 2,
            "linecolor": "white",
            "showbackground": true,
            "ticks": "",
            "zerolinecolor": "white"
           },
           "zaxis": {
            "backgroundcolor": "#E5ECF6",
            "gridcolor": "white",
            "gridwidth": 2,
            "linecolor": "white",
            "showbackground": true,
            "ticks": "",
            "zerolinecolor": "white"
           }
          },
          "shapedefaults": {
           "line": {
            "color": "#2a3f5f"
           }
          },
          "ternary": {
           "aaxis": {
            "gridcolor": "white",
            "linecolor": "white",
            "ticks": ""
           },
           "baxis": {
            "gridcolor": "white",
            "linecolor": "white",
            "ticks": ""
           },
           "bgcolor": "#E5ECF6",
           "caxis": {
            "gridcolor": "white",
            "linecolor": "white",
            "ticks": ""
           }
          },
          "title": {
           "x": 0.05
          },
          "xaxis": {
           "automargin": true,
           "gridcolor": "white",
           "linecolor": "white",
           "ticks": "",
           "title": {
            "standoff": 15
           },
           "zerolinecolor": "white",
           "zerolinewidth": 2
          },
          "yaxis": {
           "automargin": true,
           "gridcolor": "white",
           "linecolor": "white",
           "ticks": "",
           "title": {
            "standoff": 15
           },
           "zerolinecolor": "white",
           "zerolinewidth": 2
          }
         }
        }
       }
      },
      "text/html": [
       "<div>                        <script type=\"text/javascript\">window.PlotlyConfig = {MathJaxConfig: 'local'};</script>\n",
       "        <script src=\"https://cdn.plot.ly/plotly-2.16.1.min.js\"></script>                <div id=\"99dc8400-4eff-4b3c-9a98-01f7286f24b4\" class=\"plotly-graph-div\" style=\"height:100%; width:100%;\"></div>            <script type=\"text/javascript\">                                    window.PLOTLYENV=window.PLOTLYENV || {};                                    if (document.getElementById(\"99dc8400-4eff-4b3c-9a98-01f7286f24b4\")) {                    Plotly.newPlot(                        \"99dc8400-4eff-4b3c-9a98-01f7286f24b4\",                        [{\"marker\":{\"color\":\"#55AA55\"},\"mode\":\"markers\",\"name\":\"python\",\"x\":[0,1,2,3,4,5,6,7,8,9,10,11,12,13,14,15,16,17,18,19,20,21,22,23,24,25,26,27,28,29,30,31,32,33,34,35,36,37,38,39,40,41,42,43,44,45,46,47,48,49,50,51,52,53,54,55,56,57,58,59,60,61,62,63,64,65,66,67,68,69,70,71,72,73,74,75,76,77,78,79,80,81,82,83,84,85,86,87,88,89,90,91,92,93,94,95,96,97,98,99,100,101,102,103,104,105,106,107,108,109,110,111,112,113,114,115,116,117,118,119,120,121,122,123,124,125,126,127,128,129,130,131,132,133,134,135,136,137,138,139,140,141,142,143,144,145,146,147,148,149],\"y\":[0.5152764999947976,0.1332676000020001,0.1554463000211399,0.46941419999348,0.5243278999987524,0.6014150999835692,0.5902772000117693,0.7043325999984518,0.6830102999811061,0.7590822000056505,0.7909023999818601,0.8646071999974083,0.8962305000168271,0.9530727999808732,1.0197521999944001,1.106726099998923,1.0957517999922857,1.1951927999907639,1.2390132999862544,1.2872649999917485,1.3250924999883864,1.450323600001866,1.4718135000148322,1.565116100013256,1.5974818999820855,1.6214011999836657,1.6914518999983557,1.7538296999991871,1.8136759000190068,1.8514609999838285,1.8790213000029325,1.8686490000109188,2.0003648000129033,2.01141030000872,2.0348372999869753,2.163854000013089,2.191027799999574,2.206862499995623,2.2585388000006787,2.3565692999982275,2.3815796000126284,2.4701153000060003,2.519466800004011,2.664324499986833,2.617401499999687,2.605026800010819,2.718124600010924,2.726397699996596,2.8071513999893796,2.8051854000077583,2.9643579999974463,3.0163978000055067,3.0602843999804463,3.1090063999872655,3.229007799993269,3.2489481999946292,3.3144488999969326,3.3333119000017177,3.464664700004505,3.520523700019112,3.6016515999799594,3.7050448000081815,3.6175351999991108,3.719909000006737,4.134158400003798,3.776276599994162,3.8392869999806862,3.8487546000105795,3.9611041999887675,3.9945509000099264,4.106301399995573,4.164788699999917,4.0348744000075385,4.340474700002233,5.227057499985676,4.393210799986264,4.538557099993341,4.598944299999857,4.614362299995264,4.730586899997434,5.003429599979427,4.899873699992895,4.7882621999888215,4.965903900010744,5.181413100013742,5.129940199985867,5.292101799976081,5.267333899973892,5.288742600008845,5.217698299995391,5.372648599994136,5.629915700003039,5.828216200025054,5.894349499983946,5.853110399999423,5.760756000003312,5.744247599999653,5.857805599982385,5.845157800009474,5.823236299998825,5.865502699976787,6.2199096999829635,6.02054309999221,6.030377499992028,6.084610699996119,6.167653099982999,6.128072999999858,6.096925999998348,6.361158699990483,10.271441700024297,12.919832599989604,11.675057299988111,11.924066300009144,12.126196900004288,10.082685300003504,6.569622499984689,6.671269099984784,6.69207649998134,6.673134500015294,7.480763600004138,8.450833200011402,10.690266399993561,12.80031799999415,10.31299529998796,7.22555969998939,7.289177300001029,7.566742599999998,14.503521100006765,14.344830999994883,14.851570099999662,8.842272799985949,7.762953099998413,7.906297399982577,7.691092599998228,7.798459499987075,7.975024099985603,7.940733700001147,8.004695300012827,7.990696599998046,8.04042639999534,8.228927600022871,8.476456599979429,8.356700300006196,8.311262200004421,8.461707800015574,8.437294700008351,8.595292800018797,8.526313500013202,8.779628499993123,8.822037800011458],\"type\":\"scatter\"},{\"marker\":{\"color\":\"#AA5555\"},\"mode\":\"markers\",\"name\":\"rust\",\"x\":[0,1,2,3,4,5,6,7,8,9,10,11,12,13,14,15,16,17,18,19,20,21,22,23,24,25,26,27,28,29,30,31,32,33,34,35,36,37,38,39,40,41,42,43,44,45,46,47,48,49,50,51,52,53,54,55,56,57,58,59,60,61,62,63,64,65,66,67,68,69,70,71,72,73,74,75,76,77,78,79,80,81,82,83,84,85,86,87,88,89,90,91,92,93,94,95,96,97,98,99,100,101,102,103,104,105,106,107,108,109,110,111,112,113,114,115,116,117,118,119,120,121,122,123,124,125,126,127,128,129,130,131,132,133,134,135,136,137,138,139,140,141,142,143,144,145,146,147,148,149],\"y\":[1.359591900021769,1.2919116000120994,1.4209354000049643,1.293570899986662,1.3014584000047762,1.388853200012818,1.322491099999752,1.3866751000168733,1.4026465000060853,1.4185088999802247,1.4436879999993835,1.5169849999947473,1.516949199984083,1.5465444999863394,1.551402599987341,1.5739662000269163,1.6050428999878932,1.6547740999958478,1.774337699986063,1.6785063999996055,1.6891836999857333,1.8131302999972831,1.7136504999944009,1.7575791999988724,1.8853803999954835,1.7826809999824036,1.7585095000104047,1.8033223999955226,1.7873369000153616,1.881059000006644,1.782455700013088,1.7950681000074837,1.825692499987781,1.8436997999961022,1.8886153999774251,1.8952424000017345,1.8975249000068288,1.97006700001657,1.9687961000017822,1.9751600000017788,2.044891999976244,2.15949299998465,2.2789821999904234,2.058258200006094,2.142497699998785,2.063197500014212,2.0885980000020936,2.1418011999921873,2.132217500009574,2.166472899989458,2.2001712000055704,2.2434600999986287,2.2444532999943476,2.3331421999901067,2.331867600005353,2.3173814000037964,2.31877940002596,2.3822430000000168,2.3613746000046376,2.3723813999968115,2.3851547999947798,2.4307968000066467,2.4476472999958787,2.7937758000043686,2.4874711000011303,2.550718999991659,2.5252616000070702,2.521598899998935,2.5909100999997463,2.609422400011681,2.571303500008071,2.4561830000020564,2.987235000007786,2.7491329000040423,3.401552900002571,2.962506600015331,2.7744126000034157,2.8832851000188384,2.78737489998457,2.8117983999836724,2.8233307999907993,2.816964099998586,2.955602000001818,3.05375640001148,3.0478128000104334,3.0962867000198457,3.110848200012697,3.106987000006484,3.0340276999922935,2.9650806999998167,3.1635777999763377,3.2941279000078794,3.248392400011653,3.3031538000213914,3.32198320000316,3.18472719998681,3.1828504000150133,3.2046040999994148,3.2021590000076685,3.2352432000043336,3.2159632999973837,3.2591228999954183,3.2875592000200413,3.2811316000006627,3.315779000025941,3.3850936999951955,3.288543500006199,3.113731399993412,4.462278199993307,7.10476259997813,6.115323399979388,6.339309599978151,6.670469200005755,7.147212000010768,3.4824439999938477,3.552226400002837,3.4467017999850214,3.461176200013142,3.7232182000007015,4.126539699995192,5.147271099995123,6.484302999975625,6.5666653999942355,3.627114100003382,3.691985500016017,3.658831900014775,4.174921899975743,9.259717399982037,7.405511899996782,6.660824099992169,3.8172982999822125,3.8643693000194617,3.768399499997031,3.8222641000174917,3.8349502999917604,3.930284500005655,3.849627599993255,3.856268599978648,3.9033486999978777,3.8783671999990474,4.026878400007263,4.001716700004181,4.094117300002836,3.9819605000084266,4.072315400000662,4.051056299998891,4.066826900001615,4.077218000020366,4.122633099992527,4.165524500014726],\"type\":\"scatter\"},{\"line\":{\"color\":\"#99AA99\"},\"mode\":\"lines\",\"showlegend\":false,\"x\":[0,150],\"y\":[0.1599773742988182,8.852009575197911],\"type\":\"scatter\"},{\"line\":{\"color\":\"#AA9999\"},\"mode\":\"lines\",\"showlegend\":false,\"x\":[0,150],\"y\":[1.285793263571968,4.2268340627614105],\"type\":\"scatter\"},{\"mode\":\"text\",\"showlegend\":false,\"text\":\"python: 0.057x+0.16\",\"x\":[20],\"y\":[14],\"type\":\"scatter\"},{\"mode\":\"text\",\"showlegend\":false,\"text\":\"rust:     0.020x+1.29\",\"x\":[20],\"y\":[13],\"type\":\"scatter\"}],                        {\"template\":{\"data\":{\"histogram2dcontour\":[{\"type\":\"histogram2dcontour\",\"colorbar\":{\"outlinewidth\":0,\"ticks\":\"\"},\"colorscale\":[[0.0,\"#0d0887\"],[0.1111111111111111,\"#46039f\"],[0.2222222222222222,\"#7201a8\"],[0.3333333333333333,\"#9c179e\"],[0.4444444444444444,\"#bd3786\"],[0.5555555555555556,\"#d8576b\"],[0.6666666666666666,\"#ed7953\"],[0.7777777777777778,\"#fb9f3a\"],[0.8888888888888888,\"#fdca26\"],[1.0,\"#f0f921\"]]}],\"choropleth\":[{\"type\":\"choropleth\",\"colorbar\":{\"outlinewidth\":0,\"ticks\":\"\"}}],\"histogram2d\":[{\"type\":\"histogram2d\",\"colorbar\":{\"outlinewidth\":0,\"ticks\":\"\"},\"colorscale\":[[0.0,\"#0d0887\"],[0.1111111111111111,\"#46039f\"],[0.2222222222222222,\"#7201a8\"],[0.3333333333333333,\"#9c179e\"],[0.4444444444444444,\"#bd3786\"],[0.5555555555555556,\"#d8576b\"],[0.6666666666666666,\"#ed7953\"],[0.7777777777777778,\"#fb9f3a\"],[0.8888888888888888,\"#fdca26\"],[1.0,\"#f0f921\"]]}],\"heatmap\":[{\"type\":\"heatmap\",\"colorbar\":{\"outlinewidth\":0,\"ticks\":\"\"},\"colorscale\":[[0.0,\"#0d0887\"],[0.1111111111111111,\"#46039f\"],[0.2222222222222222,\"#7201a8\"],[0.3333333333333333,\"#9c179e\"],[0.4444444444444444,\"#bd3786\"],[0.5555555555555556,\"#d8576b\"],[0.6666666666666666,\"#ed7953\"],[0.7777777777777778,\"#fb9f3a\"],[0.8888888888888888,\"#fdca26\"],[1.0,\"#f0f921\"]]}],\"heatmapgl\":[{\"type\":\"heatmapgl\",\"colorbar\":{\"outlinewidth\":0,\"ticks\":\"\"},\"colorscale\":[[0.0,\"#0d0887\"],[0.1111111111111111,\"#46039f\"],[0.2222222222222222,\"#7201a8\"],[0.3333333333333333,\"#9c179e\"],[0.4444444444444444,\"#bd3786\"],[0.5555555555555556,\"#d8576b\"],[0.6666666666666666,\"#ed7953\"],[0.7777777777777778,\"#fb9f3a\"],[0.8888888888888888,\"#fdca26\"],[1.0,\"#f0f921\"]]}],\"contourcarpet\":[{\"type\":\"contourcarpet\",\"colorbar\":{\"outlinewidth\":0,\"ticks\":\"\"}}],\"contour\":[{\"type\":\"contour\",\"colorbar\":{\"outlinewidth\":0,\"ticks\":\"\"},\"colorscale\":[[0.0,\"#0d0887\"],[0.1111111111111111,\"#46039f\"],[0.2222222222222222,\"#7201a8\"],[0.3333333333333333,\"#9c179e\"],[0.4444444444444444,\"#bd3786\"],[0.5555555555555556,\"#d8576b\"],[0.6666666666666666,\"#ed7953\"],[0.7777777777777778,\"#fb9f3a\"],[0.8888888888888888,\"#fdca26\"],[1.0,\"#f0f921\"]]}],\"surface\":[{\"type\":\"surface\",\"colorbar\":{\"outlinewidth\":0,\"ticks\":\"\"},\"colorscale\":[[0.0,\"#0d0887\"],[0.1111111111111111,\"#46039f\"],[0.2222222222222222,\"#7201a8\"],[0.3333333333333333,\"#9c179e\"],[0.4444444444444444,\"#bd3786\"],[0.5555555555555556,\"#d8576b\"],[0.6666666666666666,\"#ed7953\"],[0.7777777777777778,\"#fb9f3a\"],[0.8888888888888888,\"#fdca26\"],[1.0,\"#f0f921\"]]}],\"mesh3d\":[{\"type\":\"mesh3d\",\"colorbar\":{\"outlinewidth\":0,\"ticks\":\"\"}}],\"scatter\":[{\"fillpattern\":{\"fillmode\":\"overlay\",\"size\":10,\"solidity\":0.2},\"type\":\"scatter\"}],\"parcoords\":[{\"type\":\"parcoords\",\"line\":{\"colorbar\":{\"outlinewidth\":0,\"ticks\":\"\"}}}],\"scatterpolargl\":[{\"type\":\"scatterpolargl\",\"marker\":{\"colorbar\":{\"outlinewidth\":0,\"ticks\":\"\"}}}],\"bar\":[{\"error_x\":{\"color\":\"#2a3f5f\"},\"error_y\":{\"color\":\"#2a3f5f\"},\"marker\":{\"line\":{\"color\":\"#E5ECF6\",\"width\":0.5},\"pattern\":{\"fillmode\":\"overlay\",\"size\":10,\"solidity\":0.2}},\"type\":\"bar\"}],\"scattergeo\":[{\"type\":\"scattergeo\",\"marker\":{\"colorbar\":{\"outlinewidth\":0,\"ticks\":\"\"}}}],\"scatterpolar\":[{\"type\":\"scatterpolar\",\"marker\":{\"colorbar\":{\"outlinewidth\":0,\"ticks\":\"\"}}}],\"histogram\":[{\"marker\":{\"pattern\":{\"fillmode\":\"overlay\",\"size\":10,\"solidity\":0.2}},\"type\":\"histogram\"}],\"scattergl\":[{\"type\":\"scattergl\",\"marker\":{\"colorbar\":{\"outlinewidth\":0,\"ticks\":\"\"}}}],\"scatter3d\":[{\"type\":\"scatter3d\",\"line\":{\"colorbar\":{\"outlinewidth\":0,\"ticks\":\"\"}},\"marker\":{\"colorbar\":{\"outlinewidth\":0,\"ticks\":\"\"}}}],\"scattermapbox\":[{\"type\":\"scattermapbox\",\"marker\":{\"colorbar\":{\"outlinewidth\":0,\"ticks\":\"\"}}}],\"scatterternary\":[{\"type\":\"scatterternary\",\"marker\":{\"colorbar\":{\"outlinewidth\":0,\"ticks\":\"\"}}}],\"scattercarpet\":[{\"type\":\"scattercarpet\",\"marker\":{\"colorbar\":{\"outlinewidth\":0,\"ticks\":\"\"}}}],\"carpet\":[{\"aaxis\":{\"endlinecolor\":\"#2a3f5f\",\"gridcolor\":\"white\",\"linecolor\":\"white\",\"minorgridcolor\":\"white\",\"startlinecolor\":\"#2a3f5f\"},\"baxis\":{\"endlinecolor\":\"#2a3f5f\",\"gridcolor\":\"white\",\"linecolor\":\"white\",\"minorgridcolor\":\"white\",\"startlinecolor\":\"#2a3f5f\"},\"type\":\"carpet\"}],\"table\":[{\"cells\":{\"fill\":{\"color\":\"#EBF0F8\"},\"line\":{\"color\":\"white\"}},\"header\":{\"fill\":{\"color\":\"#C8D4E3\"},\"line\":{\"color\":\"white\"}},\"type\":\"table\"}],\"barpolar\":[{\"marker\":{\"line\":{\"color\":\"#E5ECF6\",\"width\":0.5},\"pattern\":{\"fillmode\":\"overlay\",\"size\":10,\"solidity\":0.2}},\"type\":\"barpolar\"}],\"pie\":[{\"automargin\":true,\"type\":\"pie\"}]},\"layout\":{\"autotypenumbers\":\"strict\",\"colorway\":[\"#636efa\",\"#EF553B\",\"#00cc96\",\"#ab63fa\",\"#FFA15A\",\"#19d3f3\",\"#FF6692\",\"#B6E880\",\"#FF97FF\",\"#FECB52\"],\"font\":{\"color\":\"#2a3f5f\"},\"hovermode\":\"closest\",\"hoverlabel\":{\"align\":\"left\"},\"paper_bgcolor\":\"white\",\"plot_bgcolor\":\"#E5ECF6\",\"polar\":{\"bgcolor\":\"#E5ECF6\",\"angularaxis\":{\"gridcolor\":\"white\",\"linecolor\":\"white\",\"ticks\":\"\"},\"radialaxis\":{\"gridcolor\":\"white\",\"linecolor\":\"white\",\"ticks\":\"\"}},\"ternary\":{\"bgcolor\":\"#E5ECF6\",\"aaxis\":{\"gridcolor\":\"white\",\"linecolor\":\"white\",\"ticks\":\"\"},\"baxis\":{\"gridcolor\":\"white\",\"linecolor\":\"white\",\"ticks\":\"\"},\"caxis\":{\"gridcolor\":\"white\",\"linecolor\":\"white\",\"ticks\":\"\"}},\"coloraxis\":{\"colorbar\":{\"outlinewidth\":0,\"ticks\":\"\"}},\"colorscale\":{\"sequential\":[[0.0,\"#0d0887\"],[0.1111111111111111,\"#46039f\"],[0.2222222222222222,\"#7201a8\"],[0.3333333333333333,\"#9c179e\"],[0.4444444444444444,\"#bd3786\"],[0.5555555555555556,\"#d8576b\"],[0.6666666666666666,\"#ed7953\"],[0.7777777777777778,\"#fb9f3a\"],[0.8888888888888888,\"#fdca26\"],[1.0,\"#f0f921\"]],\"sequentialminus\":[[0.0,\"#0d0887\"],[0.1111111111111111,\"#46039f\"],[0.2222222222222222,\"#7201a8\"],[0.3333333333333333,\"#9c179e\"],[0.4444444444444444,\"#bd3786\"],[0.5555555555555556,\"#d8576b\"],[0.6666666666666666,\"#ed7953\"],[0.7777777777777778,\"#fb9f3a\"],[0.8888888888888888,\"#fdca26\"],[1.0,\"#f0f921\"]],\"diverging\":[[0,\"#8e0152\"],[0.1,\"#c51b7d\"],[0.2,\"#de77ae\"],[0.3,\"#f1b6da\"],[0.4,\"#fde0ef\"],[0.5,\"#f7f7f7\"],[0.6,\"#e6f5d0\"],[0.7,\"#b8e186\"],[0.8,\"#7fbc41\"],[0.9,\"#4d9221\"],[1,\"#276419\"]]},\"xaxis\":{\"gridcolor\":\"white\",\"linecolor\":\"white\",\"ticks\":\"\",\"title\":{\"standoff\":15},\"zerolinecolor\":\"white\",\"automargin\":true,\"zerolinewidth\":2},\"yaxis\":{\"gridcolor\":\"white\",\"linecolor\":\"white\",\"ticks\":\"\",\"title\":{\"standoff\":15},\"zerolinecolor\":\"white\",\"automargin\":true,\"zerolinewidth\":2},\"scene\":{\"xaxis\":{\"backgroundcolor\":\"#E5ECF6\",\"gridcolor\":\"white\",\"linecolor\":\"white\",\"showbackground\":true,\"ticks\":\"\",\"zerolinecolor\":\"white\",\"gridwidth\":2},\"yaxis\":{\"backgroundcolor\":\"#E5ECF6\",\"gridcolor\":\"white\",\"linecolor\":\"white\",\"showbackground\":true,\"ticks\":\"\",\"zerolinecolor\":\"white\",\"gridwidth\":2},\"zaxis\":{\"backgroundcolor\":\"#E5ECF6\",\"gridcolor\":\"white\",\"linecolor\":\"white\",\"showbackground\":true,\"ticks\":\"\",\"zerolinecolor\":\"white\",\"gridwidth\":2}},\"shapedefaults\":{\"line\":{\"color\":\"#2a3f5f\"}},\"annotationdefaults\":{\"arrowcolor\":\"#2a3f5f\",\"arrowhead\":0,\"arrowwidth\":1},\"geo\":{\"bgcolor\":\"white\",\"landcolor\":\"#E5ECF6\",\"subunitcolor\":\"white\",\"showland\":true,\"showlakes\":true,\"lakecolor\":\"white\"},\"title\":{\"x\":0.05},\"mapbox\":{\"style\":\"light\"}}}},                        {\"responsive\": true}                    )                };                            </script>        </div>"
      ],
      "text/plain": [
       "Figure({\n",
       "    'data': [{'marker': {'color': '#55AA55'},\n",
       "              'mode': 'markers',\n",
       "              'name': 'python',\n",
       "              'type': 'scatter',\n",
       "              'x': array([  0,   1,   2,   3,   4,   5,   6,   7,   8,   9,  10,  11,  12,  13,\n",
       "                           14,  15,  16,  17,  18,  19,  20,  21,  22,  23,  24,  25,  26,  27,\n",
       "                           28,  29,  30,  31,  32,  33,  34,  35,  36,  37,  38,  39,  40,  41,\n",
       "                           42,  43,  44,  45,  46,  47,  48,  49,  50,  51,  52,  53,  54,  55,\n",
       "                           56,  57,  58,  59,  60,  61,  62,  63,  64,  65,  66,  67,  68,  69,\n",
       "                           70,  71,  72,  73,  74,  75,  76,  77,  78,  79,  80,  81,  82,  83,\n",
       "                           84,  85,  86,  87,  88,  89,  90,  91,  92,  93,  94,  95,  96,  97,\n",
       "                           98,  99, 100, 101, 102, 103, 104, 105, 106, 107, 108, 109, 110, 111,\n",
       "                          112, 113, 114, 115, 116, 117, 118, 119, 120, 121, 122, 123, 124, 125,\n",
       "                          126, 127, 128, 129, 130, 131, 132, 133, 134, 135, 136, 137, 138, 139,\n",
       "                          140, 141, 142, 143, 144, 145, 146, 147, 148, 149], dtype=int64),\n",
       "              'y': array([ 0.5152765,  0.1332676,  0.1554463,  0.4694142,  0.5243279,  0.6014151,\n",
       "                           0.5902772,  0.7043326,  0.6830103,  0.7590822,  0.7909024,  0.8646072,\n",
       "                           0.8962305,  0.9530728,  1.0197522,  1.1067261,  1.0957518,  1.1951928,\n",
       "                           1.2390133,  1.287265 ,  1.3250925,  1.4503236,  1.4718135,  1.5651161,\n",
       "                           1.5974819,  1.6214012,  1.6914519,  1.7538297,  1.8136759,  1.851461 ,\n",
       "                           1.8790213,  1.868649 ,  2.0003648,  2.0114103,  2.0348373,  2.163854 ,\n",
       "                           2.1910278,  2.2068625,  2.2585388,  2.3565693,  2.3815796,  2.4701153,\n",
       "                           2.5194668,  2.6643245,  2.6174015,  2.6050268,  2.7181246,  2.7263977,\n",
       "                           2.8071514,  2.8051854,  2.964358 ,  3.0163978,  3.0602844,  3.1090064,\n",
       "                           3.2290078,  3.2489482,  3.3144489,  3.3333119,  3.4646647,  3.5205237,\n",
       "                           3.6016516,  3.7050448,  3.6175352,  3.719909 ,  4.1341584,  3.7762766,\n",
       "                           3.839287 ,  3.8487546,  3.9611042,  3.9945509,  4.1063014,  4.1647887,\n",
       "                           4.0348744,  4.3404747,  5.2270575,  4.3932108,  4.5385571,  4.5989443,\n",
       "                           4.6143623,  4.7305869,  5.0034296,  4.8998737,  4.7882622,  4.9659039,\n",
       "                           5.1814131,  5.1299402,  5.2921018,  5.2673339,  5.2887426,  5.2176983,\n",
       "                           5.3726486,  5.6299157,  5.8282162,  5.8943495,  5.8531104,  5.760756 ,\n",
       "                           5.7442476,  5.8578056,  5.8451578,  5.8232363,  5.8655027,  6.2199097,\n",
       "                           6.0205431,  6.0303775,  6.0846107,  6.1676531,  6.128073 ,  6.096926 ,\n",
       "                           6.3611587, 10.2714417, 12.9198326, 11.6750573, 11.9240663, 12.1261969,\n",
       "                          10.0826853,  6.5696225,  6.6712691,  6.6920765,  6.6731345,  7.4807636,\n",
       "                           8.4508332, 10.6902664, 12.800318 , 10.3129953,  7.2255597,  7.2891773,\n",
       "                           7.5667426, 14.5035211, 14.344831 , 14.8515701,  8.8422728,  7.7629531,\n",
       "                           7.9062974,  7.6910926,  7.7984595,  7.9750241,  7.9407337,  8.0046953,\n",
       "                           7.9906966,  8.0404264,  8.2289276,  8.4764566,  8.3567003,  8.3112622,\n",
       "                           8.4617078,  8.4372947,  8.5952928,  8.5263135,  8.7796285,  8.8220378])},\n",
       "             {'marker': {'color': '#AA5555'},\n",
       "              'mode': 'markers',\n",
       "              'name': 'rust',\n",
       "              'type': 'scatter',\n",
       "              'x': array([  0,   1,   2,   3,   4,   5,   6,   7,   8,   9,  10,  11,  12,  13,\n",
       "                           14,  15,  16,  17,  18,  19,  20,  21,  22,  23,  24,  25,  26,  27,\n",
       "                           28,  29,  30,  31,  32,  33,  34,  35,  36,  37,  38,  39,  40,  41,\n",
       "                           42,  43,  44,  45,  46,  47,  48,  49,  50,  51,  52,  53,  54,  55,\n",
       "                           56,  57,  58,  59,  60,  61,  62,  63,  64,  65,  66,  67,  68,  69,\n",
       "                           70,  71,  72,  73,  74,  75,  76,  77,  78,  79,  80,  81,  82,  83,\n",
       "                           84,  85,  86,  87,  88,  89,  90,  91,  92,  93,  94,  95,  96,  97,\n",
       "                           98,  99, 100, 101, 102, 103, 104, 105, 106, 107, 108, 109, 110, 111,\n",
       "                          112, 113, 114, 115, 116, 117, 118, 119, 120, 121, 122, 123, 124, 125,\n",
       "                          126, 127, 128, 129, 130, 131, 132, 133, 134, 135, 136, 137, 138, 139,\n",
       "                          140, 141, 142, 143, 144, 145, 146, 147, 148, 149], dtype=int64),\n",
       "              'y': array([1.3595919, 1.2919116, 1.4209354, 1.2935709, 1.3014584, 1.3888532,\n",
       "                          1.3224911, 1.3866751, 1.4026465, 1.4185089, 1.443688 , 1.516985 ,\n",
       "                          1.5169492, 1.5465445, 1.5514026, 1.5739662, 1.6050429, 1.6547741,\n",
       "                          1.7743377, 1.6785064, 1.6891837, 1.8131303, 1.7136505, 1.7575792,\n",
       "                          1.8853804, 1.782681 , 1.7585095, 1.8033224, 1.7873369, 1.881059 ,\n",
       "                          1.7824557, 1.7950681, 1.8256925, 1.8436998, 1.8886154, 1.8952424,\n",
       "                          1.8975249, 1.970067 , 1.9687961, 1.97516  , 2.044892 , 2.159493 ,\n",
       "                          2.2789822, 2.0582582, 2.1424977, 2.0631975, 2.088598 , 2.1418012,\n",
       "                          2.1322175, 2.1664729, 2.2001712, 2.2434601, 2.2444533, 2.3331422,\n",
       "                          2.3318676, 2.3173814, 2.3187794, 2.382243 , 2.3613746, 2.3723814,\n",
       "                          2.3851548, 2.4307968, 2.4476473, 2.7937758, 2.4874711, 2.550719 ,\n",
       "                          2.5252616, 2.5215989, 2.5909101, 2.6094224, 2.5713035, 2.456183 ,\n",
       "                          2.987235 , 2.7491329, 3.4015529, 2.9625066, 2.7744126, 2.8832851,\n",
       "                          2.7873749, 2.8117984, 2.8233308, 2.8169641, 2.955602 , 3.0537564,\n",
       "                          3.0478128, 3.0962867, 3.1108482, 3.106987 , 3.0340277, 2.9650807,\n",
       "                          3.1635778, 3.2941279, 3.2483924, 3.3031538, 3.3219832, 3.1847272,\n",
       "                          3.1828504, 3.2046041, 3.202159 , 3.2352432, 3.2159633, 3.2591229,\n",
       "                          3.2875592, 3.2811316, 3.315779 , 3.3850937, 3.2885435, 3.1137314,\n",
       "                          4.4622782, 7.1047626, 6.1153234, 6.3393096, 6.6704692, 7.147212 ,\n",
       "                          3.482444 , 3.5522264, 3.4467018, 3.4611762, 3.7232182, 4.1265397,\n",
       "                          5.1472711, 6.484303 , 6.5666654, 3.6271141, 3.6919855, 3.6588319,\n",
       "                          4.1749219, 9.2597174, 7.4055119, 6.6608241, 3.8172983, 3.8643693,\n",
       "                          3.7683995, 3.8222641, 3.8349503, 3.9302845, 3.8496276, 3.8562686,\n",
       "                          3.9033487, 3.8783672, 4.0268784, 4.0017167, 4.0941173, 3.9819605,\n",
       "                          4.0723154, 4.0510563, 4.0668269, 4.077218 , 4.1226331, 4.1655245])},\n",
       "             {'line': {'color': '#99AA99'},\n",
       "              'mode': 'lines',\n",
       "              'showlegend': False,\n",
       "              'type': 'scatter',\n",
       "              'x': [0, 150],\n",
       "              'y': [0.1599773742988182, 8.852009575197911]},\n",
       "             {'line': {'color': '#AA9999'},\n",
       "              'mode': 'lines',\n",
       "              'showlegend': False,\n",
       "              'type': 'scatter',\n",
       "              'x': [0, 150],\n",
       "              'y': [1.285793263571968, 4.2268340627614105]},\n",
       "             {'mode': 'text', 'showlegend': False, 'text': 'python: 0.057x+0.16', 'type': 'scatter', 'x': [20], 'y': [14]},\n",
       "             {'mode': 'text',\n",
       "              'showlegend': False,\n",
       "              'text': 'rust:     0.020x+1.29',\n",
       "              'type': 'scatter',\n",
       "              'x': [20],\n",
       "              'y': [13]}],\n",
       "    'layout': {'template': '...'}\n",
       "})"
      ]
     },
     "execution_count": 100,
     "metadata": {},
     "output_type": "execute_result"
    }
   ],
   "source": [
    "go.Figure(\n",
    "    data = [\n",
    "        go.Scatter(x = pdf['index'], y = pdf['value'],\n",
    "        mode='markers',\n",
    "        name='python',\n",
    "        marker = {'color': '#55AA55'} ),\n",
    "        go.Scatter(x = rdf['index'], y = rdf['value'],\n",
    "        mode='markers',\n",
    "        name='rust',\n",
    "        marker = {'color': '#AA5555'} ),\n",
    "        go.Scatter(x = [0, 150], y = [pm, pm+150*pk],\n",
    "        mode='lines',\n",
    "        showlegend = False,\n",
    "        line = {'color': '#99AA99'} ),\n",
    "        go.Scatter(x = [0, 150], y = [rm, rm+150*rk],\n",
    "        mode='lines',\n",
    "        showlegend = False,\n",
    "        line = {'color': '#AA9999'} ),\n",
    "        go.Scatter(x = [20], y = [14],\n",
    "        mode='text',\n",
    "        showlegend = False,\n",
    "        text = 'python: 0.057x+0.16' ),\n",
    "        go.Scatter(x = [20], y = [13],\n",
    "        mode='text',\n",
    "        showlegend = False,\n",
    "        text = 'rust:     0.020x+1.29' )\n",
    "        \n",
    "    ]\n",
    ")"
   ]
  },
  {
   "cell_type": "code",
   "execution_count": 18,
   "metadata": {},
   "outputs": [],
   "source": [
    "x = pdf['index']\n",
    "y = pdf['value']\n",
    "xx = [xx*xx for xx in x]\n",
    "xy = [x_*y_ for x_, y_ in zip(x,y)]"
   ]
  },
  {
   "cell_type": "code",
   "execution_count": 19,
   "metadata": {},
   "outputs": [],
   "source": [
    "m = (sum(y)*sum(xx) - sum(xy))/(len(x)*sum(xx)-sum(x))\n"
   ]
  },
  {
   "cell_type": "code",
   "execution_count": 68,
   "metadata": {},
   "outputs": [],
   "source": [
    "from sklearn import linear_model\n",
    "X = np.array(pdf['index']).reshape(150, 1)\n",
    "y = np.array(pdf['value'])\n",
    "# Robustly fit linear model with RANSAC algorithm\n",
    "ransac = linear_model.RANSACRegressor()\n",
    "ransac.fit(X, y)\n",
    "\n",
    "pv = ransac.predict(np.array([[0.],[1]]))\n",
    "pk, pm = pv[1]-pv[0], pv[0]\n",
    "\n",
    "X = np.array(rdf['index']).reshape(150, 1)\n",
    "y = np.array(rdf['value'])\n",
    "# Robustly fit linear model with RANSAC algorithm\n",
    "ransac = linear_model.RANSACRegressor()\n",
    "ransac.fit(X, y)\n",
    "\n",
    "rv = ransac.predict(np.array([[0.],[1]]))\n",
    "rk, rm = rv[1]-rv[0], rv[0]\n"
   ]
  },
  {
   "cell_type": "code",
   "execution_count": 92,
   "metadata": {},
   "outputs": [
    {
     "data": {
      "text/plain": [
       "1.285793263571968"
      ]
     },
     "execution_count": 92,
     "metadata": {},
     "output_type": "execute_result"
    }
   ],
   "source": [
    "rm"
   ]
  },
  {
   "cell_type": "code",
   "execution_count": 93,
   "metadata": {},
   "outputs": [
    {
     "data": {
      "text/plain": [
       "0.01960693866126295"
      ]
     },
     "execution_count": 93,
     "metadata": {},
     "output_type": "execute_result"
    }
   ],
   "source": [
    "rk"
   ]
  },
  {
   "cell_type": "code",
   "execution_count": 90,
   "metadata": {},
   "outputs": [
    {
     "data": {
      "text/plain": [
       "0.1599773742988182"
      ]
     },
     "execution_count": 90,
     "metadata": {},
     "output_type": "execute_result"
    }
   ],
   "source": [
    "pm"
   ]
  },
  {
   "cell_type": "code",
   "execution_count": 91,
   "metadata": {},
   "outputs": [
    {
     "data": {
      "text/plain": [
       "0.057946881339327294"
      ]
     },
     "execution_count": 91,
     "metadata": {},
     "output_type": "execute_result"
    }
   ],
   "source": [
    "pk"
   ]
  },
  {
   "cell_type": "code",
   "execution_count": null,
   "metadata": {},
   "outputs": [],
   "source": []
  }
 ],
 "metadata": {
  "kernelspec": {
   "display_name": "rust_mod",
   "language": "python",
   "name": "rust_mod"
  },
  "language_info": {
   "codemirror_mode": {
    "name": "ipython",
    "version": 3
   },
   "file_extension": ".py",
   "mimetype": "text/x-python",
   "name": "python",
   "nbconvert_exporter": "python",
   "pygments_lexer": "ipython3",
   "version": "3.10.6"
  },
  "orig_nbformat": 4,
  "vscode": {
   "interpreter": {
    "hash": "2efb4f29c12eedaf85d28828f6879938dc4ae7a4d912084843283ea8553259bc"
   }
  }
 },
 "nbformat": 4,
 "nbformat_minor": 2
}
